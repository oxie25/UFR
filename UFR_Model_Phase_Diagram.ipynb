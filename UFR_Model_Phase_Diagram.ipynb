{
 "cells": [
  {
   "cell_type": "markdown",
   "metadata": {},
   "source": [
    "### This workbook is used for generating activity coefficient and phase diagram predictions across the composition and temperature range using a loaded UFR model\n",
    "\n",
    "**Oliver Xie - Olsen Lab, Massachusetts Institute of Technology, 2025**"
   ]
  },
  {
   "cell_type": "code",
   "execution_count": null,
   "metadata": {},
   "outputs": [],
   "source": [
    "import warnings\n",
    "warnings.simplefilter(action='ignore', category=FutureWarning)\n",
    "\n",
    "import os\n",
    "import pandas as pd\n",
    "import numpy as np\n",
    "from scipy import optimize\n",
    "import matplotlib.pyplot as plt\n",
    "import matplotlib.cm as cm\n",
    "import matplotlib.colors as colors\n",
    "import regex as re\n",
    "import warnings\n",
    "\n",
    "from ufr.util.analysis import TrainedModel\n",
    "import ufr.util.data_processing as data_processing\n",
    "\n",
    "# Control master font size\n",
    "plt.rcParams.update({\n",
    "    'font.size': 18,\n",
    "    'font.family': 'Arial'\n",
    "})\n"
   ]
  },
  {
   "cell_type": "markdown",
   "metadata": {},
   "source": [
    "### Open model result file, small molecule property file, and data file (if desired) with IDAC"
   ]
  },
  {
   "cell_type": "code",
   "execution_count": null,
   "metadata": {},
   "outputs": [],
   "source": [
    "# Open the data file\n",
    "eval_data_file = \"./data/opensource_IDAC_data.csv\"\n",
    "prop_file = \"./data/small_molecule_prop.csv\"\n",
    "\n",
    "df_eval = pd.read_csv(eval_data_file, index_col = 0)\n",
    "df_prop = pd.read_csv(prop_file, index_col = 0)\n",
    "\n",
    "solute_smiles = 'Solute SMILES' # Specify the column name in df_eval\n",
    "solvent_smiles = 'Solvent SMILES' # Specify the column name in df_eval\n",
    "\n",
    "# Specify parts of the model\n",
    "combinatorial_layer = 'mod_FH' # Choose between FH, FV, SG, GK-FV, mod_FH, mod_FV\n",
    "residual_layer = 'mod_UNIQUAC' # Choose between UNIQUAC, mod_UNIQUAC, Wilson, NRTL\n",
    "association_layer = 'wertheim' # Choose between none, wertheim\n",
    "dimension = 12\n",
    "temp_type = 'invT'\n",
    "temp_dim = 2\n",
    "sobolev = 0\n",
    "trial = 5\n",
    "\n",
    "model_name = f'UFR_{combinatorial_layer}_{residual_layer}_{association_layer}_{dimension}D_{temp_type}_{temp_dim}_sobolev_{sobolev}_{trial}'\n",
    "model_file = f\"./trained_models/models_from_paper/{model_name}.h5\"\n",
    "\n",
    "# We need to specify which IDAC is the correct one when removing the combinatorial layer - this is the IDAC to use for the slope with 1/T calculation\n",
    "ln_y_label = f'ln_gamma_res_{combinatorial_layer}' # Do it for just this for now\n",
    "comb_label = f'comb_{combinatorial_layer}' # This is name of the column containing the calculated combinatorial value"
   ]
  },
  {
   "cell_type": "markdown",
   "metadata": {},
   "source": [
    "**Clean data if desired**"
   ]
  },
  {
   "cell_type": "code",
   "execution_count": null,
   "metadata": {},
   "outputs": [],
   "source": [
    "# Certain datasets report deuterated water but RDKit converts it to water. There are slight differences in IDAC for D2O. Manually convert these to a different SMILES name.\n",
    "deuterated_water = 'Deuterium oxide <Heavy water>'\n",
    "df_eval.loc[df_eval['Solute'] == deuterated_water, solute_smiles] = '[2H]O[2H]'\n",
    "df_eval.loc[df_eval['Solvent'] == deuterated_water, solvent_smiles] = '[2H]O[2H]'\n",
    "\n",
    "# Filter out duplicates and drop self-edges\n",
    "self_edges = df_eval[df_eval[solute_smiles] == df_eval[solvent_smiles]].index\n",
    "df_eval = df_eval.drop(self_edges)\n",
    "\n",
    "# Drop duplicates\n",
    "df_eval = data_processing.drop_duplicates(df_eval, solute_smiles=solute_smiles, solvent_smiles=solvent_smiles)\n",
    "\n",
    "# Set flag on whether to clean the data or not\n",
    "clean_temp_outliers = True # False or True\n",
    "\n",
    "# If True, clean the data\n",
    "if clean_temp_outliers:\n",
    "    # Load the cleaning rules\n",
    "    cleaning_rules_file = './data/cleaning_rules.xlsx' # Take the sheet named cleaning rules\n",
    "    df_clean_rules = pd.read_excel(cleaning_rules_file, sheet_name = 'cleaning rules')\n",
    "\n",
    "    # Clean according to the cleaning rules\n",
    "    df_eval = data_processing.apply_cleaning(df_eval, df_clean_rules, solute_smiles=solute_smiles, solvent_smiles=solvent_smiles)\n",
    "\n",
    "    # Drop all outliers. Can specify how many times away from the standard deviation to consider an outlier (default 3)\n",
    "    df_eval, df_dropped = data_processing.remove_temperature_outliers(df_eval, std_dev = 3, solute_smiles=solute_smiles, solvent_smiles=solvent_smiles) # df_dropped is what were dropped"
   ]
  },
  {
   "cell_type": "markdown",
   "metadata": {},
   "source": [
    "**Extract model parameters**"
   ]
  },
  {
   "cell_type": "code",
   "execution_count": null,
   "metadata": {},
   "outputs": [],
   "source": [
    "with pd.HDFStore(model_file) as store:\n",
    "    df_results = store['df_chemical_parameters']\n",
    "    df_temp = store['df_temp_parameters']\n",
    "    df_loss = store['df_loss']\n",
    "    df_distance = store['df_distance']\n",
    "\n",
    "# Get the exponents used for this model\n",
    "temp_exponents = np.array(df_temp.columns, dtype = np.float64)\n",
    "\n",
    "# Fill in na with 0\n",
    "x_results = df_results.to_numpy()\n",
    "\n",
    "# Extract everything as numpy arrays to send into model\n",
    "T = df_temp.to_numpy()\n",
    "O = df_distance.to_numpy()\n",
    "\n",
    "# Set up the parameter arrays\n",
    "# Programatically access\n",
    "A = df_results.filter(like = 'ua_').to_numpy()\n",
    "Q = df_results.filter(like = 'q_').to_numpy()\n",
    "Alpha = df_results.filter(like = 'alpha_').to_numpy()\n",
    "Delta = df_results.loc[:, df_results.columns.str.contains('acceptor') | df_results.columns.str.contains('donor')].to_numpy()\n",
    "\n",
    "arrays = [arr for arr in (A, Alpha, Q, Delta) if arr.size > 0]"
   ]
  },
  {
   "cell_type": "markdown",
   "metadata": {},
   "source": [
    "### Create a model and mixture for calculation of phase properties\n",
    "\n",
    "Currently supported methods in TrainedModel:\n",
    "1) `plot_idac` Calculates and plots IDAC across a specified temperature range\n",
    "2) `calc_param` Calculates the model parameters including those akin to the UNIQUAC, Wilson, NRTL parameters\n",
    "3) `calc_activity` Calculates the activity coefficients at a specified temperature across the composition window for both species\n",
    "4) `calc_activity_parts` Does the same as `calc_activity` except the output is broken up into the contribution of each model layer (combinatorial, residual, association)\n",
    "5) `calc_VLE` Calculates the vapor-liquid equilibrium for the mixture. Either gives a T-x-y plot or P-x-y plot depending on if you specify the pressure (in bars - T-x-y) or temperature (in Kelvin - P-x-y)\n",
    "6) `calc_LLE` Calculates the liquid-liquid equilibirum for the mixture using the isopotential and minimum energy criteria outlined in the text"
   ]
  },
  {
   "cell_type": "code",
   "execution_count": null,
   "metadata": {},
   "outputs": [],
   "source": [
    "# We need to load vapor pressure correlation. In the paper, the DIPPR correlations (Eqn. 101) extracted from Aspen Plus are used. Here, only open-source data for Antoine equations gathered from NIST are used. For any correlations used, the result needs to be converted to bar. See the method _antoine for equation details\n",
    "df_vapor_pressure = pd.read_csv('./data/vapor_pressure_nist.csv', index_col = 'Canonical SMILES')\n",
    "df_vapor_pressure['Equation'] = 'antoine' # Options include 101, 'antoine', 'extended_101'\n",
    "\n",
    "# Generate the model\n",
    "model_spec = (combinatorial_layer, residual_layer, association_layer) # combinatorial, residual, association\n",
    "Model = TrainedModel(model_spec, df_results, df_prop, Tmat = T, Omat = O, temp_exponent = temp_exponents, df_antoine = df_vapor_pressure) # If learn is specified, supply O_mat as last variable"
   ]
  },
  {
   "cell_type": "markdown",
   "metadata": {},
   "source": [
    "**Specify the components of the mixture**"
   ]
  },
  {
   "cell_type": "code",
   "execution_count": null,
   "metadata": {},
   "outputs": [],
   "source": [
    "A_SMILES = 'CO' # Specify the SMILES of component A\n",
    "B_SMILES = 'c1ccccc1' # Specify the SMILES of component B\n",
    "\n",
    "solution = Model.solution(A_SMILES, B_SMILES)"
   ]
  },
  {
   "cell_type": "markdown",
   "metadata": {},
   "source": [
    "**Calculate the IDAC and compare to the dataset**"
   ]
  },
  {
   "cell_type": "code",
   "execution_count": null,
   "metadata": {},
   "outputs": [],
   "source": [
    "fig = solution.plot_idac(df_eval, 'ln gamma', 298.15, 398.15) # Inputs are the IDAC DataFrame, the column name to look for the experiemental IDAC, and the low and high temperatures. There must also be a column named 'Temp (K)' for this method to properly extract the temperatures"
   ]
  },
  {
   "cell_type": "markdown",
   "metadata": {},
   "source": [
    "**Calculate the activity coefficient and its parts**"
   ]
  },
  {
   "cell_type": "code",
   "execution_count": null,
   "metadata": {},
   "outputs": [],
   "source": [
    "T = np.array([273.15 + 30]) # Specify temperature of interest. This must always be supplied in Kelvin as a numpy array.\n",
    "x = (np.linspace(0,1,101), np.linspace(1,0,101)) # Specify the mole fractions of component A and B. The first array is for component A, the second is for component B. The two arrays must be the same length\n",
    "\n",
    "ln_y_A, ln_y_B = solution.calc_activity(x, T) # Inputs are the x tuple and T numpy array. Outputs are the ln gamma of component A and B respectively\n",
    "activity_dict = solution.calc_activity_parts(x, T) # Outputs are a dictionary of the contributions.\n",
    "\n",
    "plt.figure(figsize=(6,6))\n",
    "\n",
    "plt.plot(x[0], ln_y_A, label = f'ln gamma of {A_SMILES}', color = 'blue')\n",
    "plt.plot(x[0], ln_y_B, label = f'ln gamma of {B_SMILES}', color = 'red')\n",
    "\n",
    "# Plot options\n",
    "plt.title(f'Plot of activity coefficients of {A_SMILES} and {B_SMILES}')\n",
    "plt.xlabel(f'Mole fraction of {A_SMILES}')\n",
    "plt.ylabel(r'ln $\\gamma$')\n",
    "plt.legend()\n",
    "\n",
    "plt.tight_layout()\n",
    "plt.show()"
   ]
  },
  {
   "cell_type": "markdown",
   "metadata": {},
   "source": [
    "**Calculate a VLE curve**"
   ]
  },
  {
   "cell_type": "code",
   "execution_count": null,
   "metadata": {},
   "outputs": [],
   "source": [
    "# If you have converged VLE results to compare against, you can import them (here named df_Aspen_bubble and df_Aspen_dew)\n",
    "# To use the Aspen Plus results, df_vapor_pressure must have a column called 'Aspen Name' specifying what each component is called in Aspen Plus\n",
    "# The index column (first column) of each bubble/dew CSV should be the mixture in the form \"('Aspen_A', 'Aspen_B')\"\n",
    "# Currently commented out\n",
    "\n",
    "aspen_data = None\n",
    "'''\n",
    "df_Aspen_bubble = pd.read_csv('Aspen_bubble.csv', index_col=0)\n",
    "df_Aspen_dew = pd.read_csv('Aspen_dew.csv', index_col=0)\n",
    "column_num = df_Aspen_bubble.shape[1]\n",
    "\n",
    "Aspen_A = df_vapor_pressure.loc[A_SMILES]['Aspen Name']\n",
    "Aspen_B = df_vapor_pressure.loc[B_SMILES]['Aspen Name']\n",
    "\n",
    "mixture_aspen = f\"('{Aspen_A}', '{Aspen_B}')\" # Aspen mixture name\n",
    "\n",
    "try:\n",
    "    aspen_data = {'x': np.linspace(0, 1, column_num), 'T_bubble': df_Aspen_bubble.loc[mixture_aspen].values, 'T_dew': df_Aspen_dew.loc[mixture_aspen].values, 'P_bubble': None, 'P_dew': None}\n",
    "except:\n",
    "    print(f'Mixture {mixture_aspen} not found in the Aspen dataset')\n",
    "    aspen_data = None\n",
    "'''\n",
    "T = 298.15 # Kelvin\n",
    "p = 1.01325 # bars\n",
    "# Inputs to calc_VLE are temperature, pressure, number of x points, aspen data (or any literature data)\n",
    "# Specify only temperature for P-x-y and leave pressure none\n",
    "# Specify only pressure for T-x-y and leave temperature none\n",
    "\n",
    "xA_p, P_bubble, P_dew = solution.calc_VLE(np.array([T]), None, 101, aspen_data) # P-x-y\n",
    "xA_T, T_bubble, T_dew = solution.calc_VLE(None, np.array([p]), 101, aspen_data)\n",
    "\n",
    "# Plot the P-x-y and T-x-y plots\n",
    "\n",
    "plt.figure(figsize=(6,6))\n",
    "plt.plot(xA_p, P_bubble, label = 'bubble', color = 'blue')\n",
    "plt.plot(xA_p, P_dew, label = 'dew', color = 'red')\n",
    "\n",
    "if aspen_data is not None:\n",
    "    plt.plot(aspen_data['x'], aspen_data['P_bubble'], label = 'Aspen bubble', color = 'blue', linestyle = 'dashed')\n",
    "    plt.plot(aspen_data['x'], aspen_data['P_dew'], label = 'Aspen dew', color = 'red', linestyle = 'dashed')\n",
    "\n",
    "# Plot options\n",
    "plt.title(f'P-x-y plot at {T - 273.15} C of {A_SMILES} and {B_SMILES}')\n",
    "plt.xlabel(f'Mole fraction of {A_SMILES}')\n",
    "plt.ylabel(f'Pressure (bar)')\n",
    "plt.legend()\n",
    "\n",
    "plt.tight_layout()\n",
    "plt.show()\n",
    "\n",
    "plt.figure(figsize=(6,6))\n",
    "plt.plot(xA_T, T_bubble, label = 'bubble', color = 'blue')\n",
    "plt.plot(xA_T, T_dew, label = 'dew', color = 'red')\n",
    "\n",
    "if aspen_data is not None:\n",
    "    plt.plot(aspen_data['x'], aspen_data['T_bubble'], label = 'Aspen bubble', color = 'blue', linestyle = 'dashed')\n",
    "    plt.plot(aspen_data['x'], aspen_data['T_dew'], label = 'Aspen dew', color = 'red', linestyle = 'dashed')\n",
    "\n",
    "# Plot options\n",
    "plt.title(f'T-x-y plot at {p} bar of {A_SMILES} and {B_SMILES}')\n",
    "plt.xlabel(f'Mole fraction of {A_SMILES}')\n",
    "plt.ylabel(f'Temperature (Kelvin)')\n",
    "plt.legend()\n",
    "\n",
    "plt.tight_layout()\n",
    "plt.show()"
   ]
  },
  {
   "cell_type": "markdown",
   "metadata": {},
   "source": [
    "**Calculate an LLE curve**"
   ]
  },
  {
   "cell_type": "code",
   "execution_count": null,
   "metadata": {},
   "outputs": [],
   "source": [
    "# A range of temperatures (in Kelvin) must be specified for LLE calculations. At each temperature, the free energy is checked for phase splitting\n",
    "T_range = np.arange(273 - 20 , 273 + 260, 1) # From low to high temperature, in Kelvin. Increments determine resolution of the LLE plot\n",
    "\n",
    "xA_I, xA_II, T_lle = solution.calc_LLE(T_range, 201) # Inputs are the temperature range (in Kelvin) and the number of x points. Standard is 201 points (0.005 increments) but can be made finer\n",
    "\n",
    "# Create figure with primary y-axis\n",
    "fig, ax = plt.subplots(figsize=(6,6))\n",
    "\n",
    "# Plot the phase envelope on primary y-axis\n",
    "viridis = cm.get_cmap('viridis', 5)       \n",
    "              \n",
    "# Add a colorbar\n",
    "ax.plot(xA_I, np.array(T_lle) - 273.15, label='xA_I', color=viridis(2), lw = 3) \n",
    "ax.plot(xA_II, np.array(T_lle) - 273.15, label='xA_II', color=viridis(2), lw = 3)\n",
    "\n",
    "ax.set_xlabel(f'Mole fraction of component A')\n",
    "ax.set_ylabel('Temperature (C)')\n",
    "ax.set_title(f'LLE for (A) {A_SMILES} and (B) {B_SMILES}')\n",
    "ax.set_xlim([0, 1])\n",
    "ax.tick_params(labelsize=18)\n",
    "\n",
    "plt.rcParams['font.family'] = 'Arial'\n",
    "plt.rcParams['font.size'] = 18\n",
    "ax.spines['bottom'].set_color('black')\n",
    "ax.spines['top'].set_color('black') \n",
    "ax.spines['right'].set_color('black')\n",
    "ax.spines['left'].set_color('black')\n",
    "\n",
    "plt.grid(False)\n",
    "\n",
    "plt.tight_layout()\n",
    "plt.show()"
   ]
  },
  {
   "cell_type": "markdown",
   "metadata": {},
   "source": [
    "**Example: Predict the activity coefficients at all compositions using a UFR model trained on COSMO-RS IDAC (Qin et al.)**\n",
    "\n",
    "With a UFR model calibrated solely on infinite dilution activity coefficients published by Qin et al. as part of SolvGNN, we can calculate the composition dependent activity coefficients"
   ]
  },
  {
   "cell_type": "code",
   "execution_count": null,
   "metadata": {},
   "outputs": [],
   "source": [
    "# Load only the Zavala non-infinite dilution data and evaluate\n",
    "eval_data_file = \"./data/Qin_Zavala_AllConcentrations_data.csv\"\n",
    "prop_file = \"./data/Qin_Zavala_small_molecule_prop.csv\" # A separate properties file for all the molecules in the dataset is provided.\n",
    "\n",
    "df_non_inf = pd.read_csv(eval_data_file)\n",
    "df_prop = pd.read_csv(prop_file, index_col = 0)\n",
    "\n",
    "# Set as multi-level index the Species_1_CanonicalSMILES and Species_2_CanonicalSMILES\n",
    "df_non_inf.set_index(['Species_1_CanonicalSMILES', 'Species_2_CanonicalSMILES'], inplace=True)\n",
    "df_non_inf['Calc ln_y_1'] = np.nan\n",
    "df_non_inf['Calc ln_y_2'] = np.nan\n",
    "\n",
    "df_non_inf = df_non_inf.sort_index()\n",
    "\n",
    "# Specify parts of the model\n",
    "combinatorial_layer = 'mod_FH' # Choose between FH, FV, SG, GK-FV, mod_FH, mod_FV\n",
    "residual_layer = 'mod_UNIQUAC' # Choose between UNIQUAC, mod_UNIQUAC, Wilson, NRTL\n",
    "association_layer = 'wertheim' # Choose between none, wertheim\n",
    "dimension = 70\n",
    "temp_type = 'invT'\n",
    "temp_dim = 1\n",
    "sobolev = 0\n",
    "trial = 4\n",
    "\n",
    "model_name = f'COSMO_UFR_{combinatorial_layer}_{residual_layer}_{association_layer}_{dimension}D_{temp_type}_{temp_dim}_sobolev_{sobolev}_{trial}' # Use the COSMO prefix\n",
    "model_file = f\"./trained_models/{model_name}.h5\"\n",
    "\n",
    "# Open the model\n",
    "with pd.HDFStore(model_file) as store:\n",
    "    df_results = store['df_chemical_parameters']\n",
    "    df_temp = store['df_temp_parameters']\n",
    "    df_loss = store['df_loss']\n",
    "    df_distance = store['df_distance']\n",
    "\n",
    "# Get the exponents used for this model\n",
    "temp_exponents = np.array(df_temp.columns, dtype = np.float64)\n",
    "\n",
    "# Fill in na with 0\n",
    "x_results = df_results.to_numpy()\n",
    "\n",
    "# Extract everything as numpy arrays to send into model\n",
    "T = df_temp.to_numpy()\n",
    "O = df_distance.to_numpy()\n",
    "\n",
    "# Set up the parameter arrays\n",
    "# Programatically access\n",
    "A = df_results.filter(like = 'ua_').to_numpy()\n",
    "Q = df_results.filter(like = 'q_').to_numpy()\n",
    "Alpha = df_results.filter(like = 'alpha_').to_numpy()\n",
    "Delta = df_results.loc[:, df_results.columns.str.contains('acceptor') | df_results.columns.str.contains('donor')].to_numpy()\n",
    "\n",
    "arrays = [arr for arr in (A, Alpha, Q, Delta) if arr.size > 0]\n",
    "\n",
    "# Load the solution model\n",
    "# We don't need vapor pressures for this task, set as None\n",
    "# Generate the model\n",
    "model_spec = (combinatorial_layer, residual_layer, association_layer) # combinatorial, residual, association\n",
    "Model = TrainedModel(model_spec, df_results, df_prop, Tmat = T, Omat = O, temp_exponent = temp_exponents, df_antoine = None) # If learn is specified, supply O_mat as last variable\n",
    "\n",
    "# Iterate through every pair in df_non_inf and calculate the activity coefficients\n",
    "idx = 0\n",
    "pairs = len(df_non_inf.index)\n",
    "T = 298.15 # Set as room temperature\n",
    "\n",
    "# Iterate through every index. Get the SMILES for A and B. Calculate activity coefficient at desired concentrations\n",
    "with warnings.catch_warnings():\n",
    "    # Suppress overflow errors\n",
    "    warnings.simplefilter(\"ignore\", RuntimeWarning)\n",
    "    for A_smiles, B_smiles in df_non_inf.index:\n",
    "        solution = Model.solution(A_smiles, B_smiles)\n",
    "        xA = df_non_inf.loc[(A_smiles, B_smiles)]['Species_1_x'].to_numpy()\n",
    "        xB = df_non_inf.loc[(A_smiles, B_smiles)]['Species_2_x'].to_numpy()\n",
    "        x = (xA, xB)\n",
    "        ln_y_A, ln_y_B = solution.calc_activity(x, np.array([T]))\n",
    "        df_non_inf.loc[(A_smiles, B_smiles), 'Calc ln_y_1'] = ln_y_A\n",
    "        df_non_inf.loc[(A_smiles, B_smiles), 'Calc ln_y_2'] = ln_y_B\n",
    "        idx += 1\n",
    "        print(f'Completed {idx} / {pairs} entries')\n",
    "\n",
    "df_non_inf['AE_Species_1'] = np.abs(df_non_inf['Calc ln_y_1'] - df_non_inf['Species_1_gamma'])\n",
    "df_non_inf['AE_Species_2'] = np.abs(df_non_inf['Calc ln_y_2'] - df_non_inf['Species_2_gamma'])"
   ]
  }
 ],
 "metadata": {
  "kernelspec": {
   "display_name": "dataScience",
   "language": "python",
   "name": "python3"
  },
  "language_info": {
   "codemirror_mode": {
    "name": "ipython",
    "version": 3
   },
   "file_extension": ".py",
   "mimetype": "text/x-python",
   "name": "python",
   "nbconvert_exporter": "python",
   "pygments_lexer": "ipython3",
   "version": "3.10.14"
  }
 },
 "nbformat": 4,
 "nbformat_minor": 2
}
